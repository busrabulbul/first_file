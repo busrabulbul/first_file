{
 "cells": [
  {
   "cell_type": "markdown",
   "metadata": {},
   "source": [
    "# Problem Solution\n",
    "### 1. Take the number of elements to be stored in the list as input.\n",
    "### 2. Use a for loop to input elements into the list.\n",
    "### 3. Calculate the total sum of elements in the list.\n",
    "### 4. Divide the sum by total number of elements in the list.\n",
    "### 5. Exit."
   ]
  },
  {
   "cell_type": "code",
   "execution_count": 3,
   "metadata": {},
   "outputs": [
    {
     "name": "stdout",
     "output_type": "stream",
     "text": [
      "Enter the number of elements:10\n"
     ]
    }
   ],
   "source": [
    "n = int(input(\"Enter the number of elements:\"))"
   ]
  },
  {
   "cell_type": "code",
   "execution_count": 4,
   "metadata": {},
   "outputs": [
    {
     "name": "stdout",
     "output_type": "stream",
     "text": [
      "Enter the number of elements:2\n",
      "Enter element 1:3\n",
      "Enter element 2:5\n",
      "Average value of elements in the list 4.0 4.0\n"
     ]
    }
   ],
   "source": [
    "n = int(input(\"Enter the number of elements:\"))\n",
    "a = [] # empty list\n",
    "summation = 0\n",
    "for i in  range(0,n):\n",
    "    element = int(input(\"Enter element {}:\".format(i+1)))\n",
    "    a.append(element)\n",
    "    summation += element\n",
    "avr = sum(a)/n\n",
    "avr2 = summation/n\n",
    "print(\"Average value of elements in the list\", avr,avr2)"
   ]
  },
  {
   "cell_type": "code",
   "execution_count": 5,
   "metadata": {},
   "outputs": [
    {
     "data": {
      "text/plain": [
       "4.0"
      ]
     },
     "execution_count": 5,
     "metadata": {},
     "output_type": "execute_result"
    }
   ],
   "source": [
    "avr2"
   ]
  },
  {
   "cell_type": "markdown",
   "metadata": {},
   "source": [
    "# Problem Solution\n",
    "1. Take the values of both the elements from the user.\n",
    "2. Store the values in separate variables.\n",
    "3. Add both the variables and store it in the first variable.\n",
    "4. Subtract the second variable from the first and store it in the second variable.\n",
    "5. Then, subtract the first variable from the second variable and store it in the first variable.\n",
    "6. Print the swapped values.\n",
    "7. Exit."
   ]
  },
  {
   "cell_type": "code",
   "execution_count": 9,
   "metadata": {},
   "outputs": [
    {
     "name": "stdout",
     "output_type": "stream",
     "text": [
      "Enter the first number:4\n",
      "Enter the first number:5\n",
      "First number: 9 Second number: -1\n"
     ]
    }
   ],
   "source": [
    "a = int(input(\"Enter the first number:\"))\n",
    "b = int(input(\"Enter the first number:\"))\n",
    "term1 = a+b\n",
    "term2 = a-b\n",
    "a = term1\n",
    "b = term2\n",
    "print(\"First number:\",a,\"Second number:\",b)"
   ]
  },
  {
   "cell_type": "markdown",
   "metadata": {},
   "source": [
    "# Problem Solution\n",
    "1. Take the value of a element and store in a variable n.\n",
    "2. Convert the integer into string and store it in another variable.\n",
    "3. Add the string twice so the string gets concatenated and store it in another variable.\n",
    "4. Then add the string thrice and assign the value to the third variable.\n",
    "5. Convert the strings in the second and third variables into integers.\n",
    "6. Add the values in all the integers.\n",
    "7. Print the total value of the expression.\n",
    "8. Exit."
   ]
  },
  {
   "cell_type": "code",
   "execution_count": 12,
   "metadata": {},
   "outputs": [
    {
     "name": "stdout",
     "output_type": "stream",
     "text": [
      "Enter the first number:23\n",
      "First term: 2323 Second term: 232323\n",
      "Total of all integers: 234669\n"
     ]
    }
   ],
   "source": [
    "n = int(input(\"Enter the first number:\"))\n",
    "a = str(n)\n",
    "term1 = a+a\n",
    "term2 = a+a+a\n",
    "term1 = int(term1)\n",
    "term2 = int(term2)\n",
    "b = n + term1 + term2\n",
    "print(\"First term:\", term1, \"Second term:\",term2)\n",
    "print(\"Total of all integers:\", b)"
   ]
  },
  {
   "cell_type": "markdown",
   "metadata": {},
   "source": [
    "# Problem Solution\n",
    "1. Take the value of the integer and store in a variable.\n",
    "2. Using a while loop, get each digit of the number and store the reversed number in another variable.\n",
    "3. Print the reverse of the number.\n",
    "4. Exit."
   ]
  },
  {
   "cell_type": "code",
   "execution_count": 15,
   "metadata": {},
   "outputs": [
    {
     "name": "stdout",
     "output_type": "stream",
     "text": [
      "Enter the first number:123456\n",
      "Reverse of number: 654321\n"
     ]
    }
   ],
   "source": [
    "n = int(input(\"Enter the first number:\"))\n",
    "term = 0\n",
    "while(n>0):\n",
    "    dig = n%10\n",
    "    term = term*10+ dig\n",
    "    n = n//10\n",
    "print(\"Reverse of number:\", term)"
   ]
  },
  {
   "cell_type": "markdown",
   "metadata": {},
   "source": [
    "# Problem Solution\n",
    "1. Take the value of the integer and store in a variable.\n",
    "2. Use an if statement to determine whether the number is positive or negative.\n",
    "3. Exit."
   ]
  },
  {
   "cell_type": "code",
   "execution_count": 19,
   "metadata": {},
   "outputs": [
    {
     "name": "stdout",
     "output_type": "stream",
     "text": [
      "Enter a number:-10\n",
      "-10 is negative.\n"
     ]
    }
   ],
   "source": [
    "n = int(input(\"Enter a number:\"))\n",
    "if (n > 0):\n",
    "    print(\"{} is positive.\".format(n))\n",
    "else:\n",
    "    print(\"{} is negative.\".format(n))"
   ]
  },
  {
   "cell_type": "markdown",
   "metadata": {},
   "source": [
    "# Problem Solution\n",
    "1. Take in the marks of 5 subjects from the user and store it in different variables.\n",
    "2. Find the average of the marks.\n",
    "3. Use an else condition to decide the grade based on the average of the marks.\n",
    "4. Exit."
   ]
  },
  {
   "cell_type": "code",
   "execution_count": 22,
   "metadata": {},
   "outputs": [
    {
     "name": "stdout",
     "output_type": "stream",
     "text": [
      "Enter the first subject:30\n",
      "Enter the second subject:40\n",
      "Enter the third subject:50\n",
      "Enter the fourth subject:60\n",
      "Enter the fifth subject:70\n",
      "Grade is F and you are failed.\n"
     ]
    }
   ],
   "source": [
    "sub1 = int(input(\"Enter the first subject:\"))\n",
    "sub2 = int(input(\"Enter the second subject:\"))\n",
    "sub3 = int(input(\"Enter the third subject:\"))\n",
    "sub4 = int(input(\"Enter the fourth subject:\"))\n",
    "sub5 = int(input(\"Enter the fifth subject:\"))\n",
    "avg = (sub1 + sub2 + sub3 + sub4 + sub5) /5\n",
    "if(avg >= 90):\n",
    "    print(\"Grade is A.\")\n",
    "elif((avg <= 89) & (avg >= 80)):\n",
    "    print(\"Grade is B.\")\n",
    "elif((avg <= 79) & (avg >=70)): \n",
    "    print(\"Grade is C.\")\n",
    "elif((avg <= 69) & (avg >=60)): \n",
    "    print(\"Grade is D.\")\n",
    "else: \n",
    "    print(\"Grade is F and you are failed.\")"
   ]
  },
  {
   "cell_type": "markdown",
   "metadata": {},
   "source": [
    "## Problem Description\n",
    "The program prints all numbers in a range divisible by a given number.\n",
    "\n",
    "## Problem Solution\n",
    "1. Take in the upper range and lower range limit from the user.\n",
    "2. Take in the number to be divided by from the user.\n",
    "3. Using a for loop, print all the factors which is divisible by the number.\n",
    "4. Exit."
   ]
  },
  {
   "cell_type": "code",
   "execution_count": 5,
   "metadata": {},
   "outputs": [
    {
     "name": "stdout",
     "output_type": "stream",
     "text": [
      "Enter the upper range:15\n",
      "Enter the lower range:1\n",
      "Enter the divider:3\n",
      "[3, 6, 9, 12, 15]\n"
     ]
    }
   ],
   "source": [
    "upper = int(input(\"Enter the upper range:\"))\n",
    "lower = int(input(\"Enter the lower range:\"))\n",
    "divider = int(input(\"Enter the divider:\"))\n",
    "a=[]\n",
    "for i in range(lower, upper+1):\n",
    "    if(i % divider == 0):\n",
    "        a.append(i)\n",
    "\n",
    "print(a)"
   ]
  },
  {
   "cell_type": "markdown",
   "metadata": {},
   "source": [
    "## Problem Description\n",
    "The program takes two numbers and prints the quotient and remainder.\n",
    "\n",
    "## Problem Solution\n",
    "1. Take in the first and second number and store it in separate variables.\n",
    "2. Then obtain the quotient using division and the remainder using modulus operator.\n",
    "3. Exit."
   ]
  },
  {
   "cell_type": "code",
   "execution_count": 5,
   "metadata": {},
   "outputs": [
    {
     "name": "stdout",
     "output_type": "stream",
     "text": [
      "Enter the first number:34\n",
      "Enter the second number:7\n",
      "4 6\n"
     ]
    }
   ],
   "source": [
    "a = int(input(\"Enter the first number:\"))\n",
    "b = int(input(\"Enter the second number:\"))\n",
    "q = a // b\n",
    "r = a % b\n",
    "print(q, r)"
   ]
  },
  {
   "cell_type": "markdown",
   "metadata": {},
   "source": [
    "## Problem Description\n",
    "The program takes three distinct numbers and prints all possible combinations from the digits.\n",
    "\n",
    "## Problem Solution\n",
    "1. Take in the first, second and third number and store it in separate variables.\n",
    "2. Then append all the three numbers to the list.\n",
    "3. Use three for loops and print the digits in the list if none of their indexes are equal to each other.\n",
    "4. Exit."
   ]
  },
  {
   "cell_type": "code",
   "execution_count": 7,
   "metadata": {},
   "outputs": [
    {
     "name": "stdout",
     "output_type": "stream",
     "text": [
      "Enter the first number: 2\n",
      "Enter the first number: 5\n",
      "Enter the first number: 6\n",
      "2 5 6\n",
      "2 6 5\n",
      "5 2 6\n",
      "5 6 2\n",
      "6 2 5\n",
      "6 5 2\n"
     ]
    }
   ],
   "source": [
    "num1 = int(input(\"Enter the first number: \"))\n",
    "num2 = int(input(\"Enter the first number: \"))\n",
    "num3 = int(input(\"Enter the first number: \"))\n",
    "list1 = []\n",
    "list1.append(num1)\n",
    "list1.append(num2)\n",
    "list1.append(num3)\n",
    "for i in range(0,3):\n",
    "    for j in range(0,3):\n",
    "        for k in range(0,3):\n",
    "            if(i != j & j != k & k != i):\n",
    "                print(list1[i], list1[j], list1[k])"
   ]
  },
  {
   "cell_type": "markdown",
   "metadata": {},
   "source": [
    "## Problem Description\n",
    "The program takes the upper and lower limit and prints all odd numbers within a given range.\n",
    "\n",
    "## Problem Solution\n",
    "1. Take in the upper range limit and the lower range limit and store it in separate variables.\n",
    "2. Use a for-loop ranging from the lower range to the upper range limit.\n",
    "3. Then use an if statement if check whether the number is odd or not and print the number.\n",
    "4. Exit."
   ]
  },
  {
   "cell_type": "code",
   "execution_count": 10,
   "metadata": {
    "scrolled": true
   },
   "outputs": [
    {
     "name": "stdout",
     "output_type": "stream",
     "text": [
      "Enter the upper range:10\n",
      "Enter the lower range:2\n",
      "3\n",
      "5\n",
      "7\n",
      "9\n"
     ]
    }
   ],
   "source": [
    "upper = int(input(\"Enter the upper range:\"))\n",
    "lower = int(input(\"Enter the lower range:\"))\n",
    "for i in range(lower, upper+1):\n",
    "    if(i % 2 == 1):\n",
    "        print(\"{}\".format(i))"
   ]
  },
  {
   "cell_type": "markdown",
   "metadata": {},
   "source": [
    "## Problem Description\n",
    "The program takes in an integer and prints the smallest divisor of the integer.\n",
    "\n",
    "## Problem Solution\n",
    "1. Take in an integer from the user.\n",
    "2. Use a for loop where the value of i ranges from 2 to the integer.\n",
    "3. If the number is divisible by i, the value of i is appended to the list.\n",
    "4. The list is then sorted and the smallest element is printed.\n",
    "5. Exit."
   ]
  },
  {
   "cell_type": "code",
   "execution_count": 3,
   "metadata": {},
   "outputs": [
    {
     "name": "stdout",
     "output_type": "stream",
     "text": [
      "Enter a number:81\n",
      "The smallest divisor of 3\n"
     ]
    }
   ],
   "source": [
    "a = int(input(\"Enter a number:\"))\n",
    "list1 = []\n",
    "for i in range(2,a+1):\n",
    "    if(a % i == 0):\n",
    "        list1.append(i)\n",
    "list1.sort()\n",
    "print(\"The smallest divisor of {}\".format(list1[0]))"
   ]
  },
  {
   "cell_type": "markdown",
   "metadata": {},
   "source": [
    "## Problem Description\n",
    "The program prints all integers that aren’t divisible by either 2 or 3 and lies between 1 and 50.\n",
    "\n",
    "## Problem Solution\n",
    "1. Use a for-loop ranging from 0 to 51.\n",
    "2. Then use an if statement to check if the number isn’t divisible by both 2 and 3.\n",
    "3. Print the numbers satisfying the condition.\n",
    "4. Exit."
   ]
  },
  {
   "cell_type": "code",
   "execution_count": 6,
   "metadata": {},
   "outputs": [
    {
     "name": "stdout",
     "output_type": "stream",
     "text": [
      "1\n",
      "5\n",
      "7\n",
      "11\n",
      "13\n",
      "17\n",
      "19\n",
      "23\n",
      "25\n",
      "29\n",
      "31\n",
      "35\n",
      "37\n",
      "41\n",
      "43\n",
      "47\n",
      "49\n"
     ]
    }
   ],
   "source": [
    "for i in range(1,51):\n",
    "    if((i % 2 != 0) & (i % 3 != 0)):\n",
    "        print(i)"
   ]
  },
  {
   "cell_type": "code",
   "execution_count": null,
   "metadata": {},
   "outputs": [],
   "source": []
  }
 ],
 "metadata": {
  "kernelspec": {
   "display_name": "Python 3",
   "language": "python",
   "name": "python3"
  },
  "language_info": {
   "codemirror_mode": {
    "name": "ipython",
    "version": 3
   },
   "file_extension": ".py",
   "mimetype": "text/x-python",
   "name": "python",
   "nbconvert_exporter": "python",
   "pygments_lexer": "ipython3",
   "version": "3.8.5"
  }
 },
 "nbformat": 4,
 "nbformat_minor": 4
}
